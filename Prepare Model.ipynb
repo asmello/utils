{
 "cells": [
  {
   "cell_type": "code",
   "execution_count": 1,
   "metadata": {},
   "outputs": [
    {
     "name": "stderr",
     "output_type": "stream",
     "text": [
      "Using TensorFlow backend.\n"
     ]
    }
   ],
   "source": [
    "from PIL import Image\n",
    "from tqdm import tqdm\n",
    "import hashlib\n",
    "from pathlib import Path\n",
    "from concurrent.futures import ThreadPoolExecutor\n",
    "\n",
    "import numpy as np\n",
    "import pandas as pd\n",
    "import Augmentor\n",
    "\n",
    "from sklearn.model_selection import StratifiedKFold, KFold\n",
    "\n",
    "from keras.applications.vgg19 import VGG19, preprocess_input\n",
    "from keras.models import Model\n",
    "from keras.layers import GlobalAveragePooling2D, Dense, Dropout"
   ]
  },
  {
   "cell_type": "code",
   "execution_count": 2,
   "metadata": {},
   "outputs": [],
   "source": [
    "AUGMENT_FACTOR = 5\n",
    "IMG_SHAPE = (224, 224)"
   ]
  },
  {
   "cell_type": "code",
   "execution_count": 3,
   "metadata": {},
   "outputs": [],
   "source": [
    "path = Path(\"dataset_updated\")"
   ]
  },
  {
   "cell_type": "code",
   "execution_count": 4,
   "metadata": {},
   "outputs": [
    {
     "name": "stderr",
     "output_type": "stream",
     "text": [
      "/usr/lib/python3/dist-packages/PIL/TiffImagePlugin.py:739: UserWarning: Possibly corrupt EXIF data.  Expecting to read 6029312 bytes but only got 0. Skipping tag 0\n",
      "  \" Skipping tag %s\" % (size, len(data), tag))\n",
      "/usr/lib/python3/dist-packages/PIL/TiffImagePlugin.py:739: UserWarning: Possibly corrupt EXIF data.  Expecting to read 1311848 bytes but only got 785. Skipping tag 0\n",
      "  \" Skipping tag %s\" % (size, len(data), tag))\n",
      "/usr/lib/python3/dist-packages/PIL/TiffImagePlugin.py:756: UserWarning: Corrupt EXIF data.  Expecting to read 12 bytes but only got 8. \n",
      "  warnings.warn(str(msg))\n"
     ]
    },
    {
     "data": {
      "text/html": [
       "<div>\n",
       "<style scoped>\n",
       "    .dataframe tbody tr th:only-of-type {\n",
       "        vertical-align: middle;\n",
       "    }\n",
       "\n",
       "    .dataframe tbody tr th {\n",
       "        vertical-align: top;\n",
       "    }\n",
       "\n",
       "    .dataframe thead th {\n",
       "        text-align: right;\n",
       "    }\n",
       "</style>\n",
       "<table border=\"1\" class=\"dataframe\">\n",
       "  <thead>\n",
       "    <tr style=\"text-align: right;\">\n",
       "      <th></th>\n",
       "      <th>path</th>\n",
       "      <th>category</th>\n",
       "    </tr>\n",
       "    <tr>\n",
       "      <th>id</th>\n",
       "      <th></th>\n",
       "      <th></th>\n",
       "    </tr>\n",
       "  </thead>\n",
       "  <tbody>\n",
       "    <tr>\n",
       "      <th>96cb78a545ae9bff37048375762a43c4</th>\n",
       "      <td>/home/asm/dev/budokai/dataset_updated/validati...</td>\n",
       "      <td>iconography</td>\n",
       "    </tr>\n",
       "    <tr>\n",
       "      <th>c8c4ef86d86573cacb5991e362a4ac2d</th>\n",
       "      <td>/home/asm/dev/budokai/dataset_updated/validati...</td>\n",
       "      <td>iconography</td>\n",
       "    </tr>\n",
       "    <tr>\n",
       "      <th>1eac68a564617590992bae5e51fd4d8e</th>\n",
       "      <td>/home/asm/dev/budokai/dataset_updated/validati...</td>\n",
       "      <td>iconography</td>\n",
       "    </tr>\n",
       "    <tr>\n",
       "      <th>0ddef4a9979cb84a1855c6e5133bd88c</th>\n",
       "      <td>/home/asm/dev/budokai/dataset_updated/validati...</td>\n",
       "      <td>iconography</td>\n",
       "    </tr>\n",
       "    <tr>\n",
       "      <th>08d8de80b60f2373689afa401ad4c547</th>\n",
       "      <td>/home/asm/dev/budokai/dataset_updated/validati...</td>\n",
       "      <td>iconography</td>\n",
       "    </tr>\n",
       "  </tbody>\n",
       "</table>\n",
       "</div>"
      ],
      "text/plain": [
       "                                                                               path  \\\n",
       "id                                                                                    \n",
       "96cb78a545ae9bff37048375762a43c4  /home/asm/dev/budokai/dataset_updated/validati...   \n",
       "c8c4ef86d86573cacb5991e362a4ac2d  /home/asm/dev/budokai/dataset_updated/validati...   \n",
       "1eac68a564617590992bae5e51fd4d8e  /home/asm/dev/budokai/dataset_updated/validati...   \n",
       "0ddef4a9979cb84a1855c6e5133bd88c  /home/asm/dev/budokai/dataset_updated/validati...   \n",
       "08d8de80b60f2373689afa401ad4c547  /home/asm/dev/budokai/dataset_updated/validati...   \n",
       "\n",
       "                                     category  \n",
       "id                                             \n",
       "96cb78a545ae9bff37048375762a43c4  iconography  \n",
       "c8c4ef86d86573cacb5991e362a4ac2d  iconography  \n",
       "1eac68a564617590992bae5e51fd4d8e  iconography  \n",
       "0ddef4a9979cb84a1855c6e5133bd88c  iconography  \n",
       "08d8de80b60f2373689afa401ad4c547  iconography  "
      ]
     },
     "execution_count": 4,
     "metadata": {},
     "output_type": "execute_result"
    }
   ],
   "source": [
    "img_list = []\n",
    "for img in path.glob('*/*/*'):\n",
    "    try:\n",
    "        Image.open(img)\n",
    "    except:\n",
    "        continue\n",
    "    cat = img.parts[-2]\n",
    "    pathstr = str(img.absolute())\n",
    "    img_id = hashlib.md5(pathstr.encode('utf-8')).hexdigest()\n",
    "    img_list.append((img_id, pathstr, cat))\n",
    "img_df = pd.DataFrame(img_list, columns=['id', 'path', 'category'])\n",
    "img_df.index = img_df.id\n",
    "img_df.drop('id', axis=1, inplace=True)\n",
    "img_df.category = img_df.category.astype('category')\n",
    "img_df.head()"
   ]
  },
  {
   "cell_type": "code",
   "execution_count": null,
   "metadata": {},
   "outputs": [],
   "source": [
    "def apply_pipeline(df, sample_size):\n",
    "    \n",
    "    p = Augmentor.DataFramePipeline(df, 'path', 'category')\n",
    "    p.flip_random(0.5)\n",
    "    p.gaussian_distortion(0.1, 4, 4, 3, 'bell', 'in')\n",
    "    p.random_distortion(0.3, 4, 4, 8)\n",
    "    p.shear(0.1, 10, 10)\n",
    "    p.skew(0.1)\n",
    "    p.rotate(0.3, 20, 20)\n",
    "    p.rotate_random_90(0.1)\n",
    "    p.resize(1, *IMG_SHAPE)\n",
    "    \n",
    "    xlen = len(p.augmentor_images)\n",
    "    if sample_size > xlen:\n",
    "        samples = np.concatenate((np.arange(xlen), np.random.choice(xlen, size=sample_size-xlen)), axis=0)\n",
    "    else:\n",
    "        samples = np.random.choice(xlen, size=sample_size, replace=False)\n",
    "        \n",
    "    with tqdm(total=len(samples), desc=\"Generating samples\", unit=\"samples\") as pbar:\n",
    "        \n",
    "        def process(img):\n",
    "            aug_img = np.array(p._execute(img, save_to_disk=False))\n",
    "            if aug_img.ndim < 3:\n",
    "                aug_img = np.stack([aug_img]*3, -1)\n",
    "            if aug_img.shape[-1] > 3:\n",
    "                aug_img = aug_img[..., :3]\n",
    "            assert aug_img.shape == (*IMG_SHAPE, 3), img.image_path\n",
    "            pbar.update(1)\n",
    "            return aug_img, img.categorical_label\n",
    "        \n",
    "        X, y = zip(*map(process, np.array(p.augmentor_images)[samples]))\n",
    "    \n",
    "    return np.array(X), np.array(y), df.index[samples]"
   ]
  },
  {
   "cell_type": "code",
   "execution_count": null,
   "metadata": {},
   "outputs": [
    {
     "data": {
      "text/plain": [
       "(42885, 224, 224, 3)"
      ]
     },
     "execution_count": 6,
     "metadata": {},
     "output_type": "execute_result"
    }
   ],
   "source": [
    "# X, y, idx = apply_pipeline(img_df, AUGMENT_FACTOR * len(img_df))\n",
    "data = np.load('full_data.npz')\n",
    "X, y = data['X'], data['y']\n",
    "X.shape"
   ]
  },
  {
   "cell_type": "code",
   "execution_count": null,
   "metadata": {},
   "outputs": [],
   "source": [
    "# np.savez('full_data.npz', X=X, y=y, idx=idx.values)"
   ]
  },
  {
   "cell_type": "code",
   "execution_count": null,
   "metadata": {},
   "outputs": [],
   "source": [
    "N = 16\n",
    "b = np.ceil(len(X)/N).astype(int)\n",
    "for i in range(N):\n",
    "    X[i*b:(i+1)*b] = preprocess_input(X[i*b:(i+1)*b])"
   ]
  },
  {
   "cell_type": "code",
   "execution_count": null,
   "metadata": {},
   "outputs": [],
   "source": [
    "base_model = VGG19(weights='imagenet')\n",
    "\n",
    "x = base_model.get_layer('block5_pool').output\n",
    "x = GlobalAveragePooling2D(name='global_avg')(x)\n",
    "x = Dense(1024, activation='relu', name='features')(x)\n",
    "# x = Dropout(0.5, name='dropout')(x)\n",
    "y_out = Dense(5, activation='softmax', name='prediction')(x)\n",
    "\n",
    "model = Model(inputs=base_model.input, outputs=y_out)\n",
    "\n",
    "for layer in base_model.layers:\n",
    "    layer.trainable = False\n",
    "    \n",
    "model.compile(optimizer='adam', loss='categorical_crossentropy')"
   ]
  },
  {
   "cell_type": "code",
   "execution_count": null,
   "metadata": {},
   "outputs": [
    {
     "name": "stdout",
     "output_type": "stream",
     "text": [
      "_________________________________________________________________\n",
      "Layer (type)                 Output Shape              Param #   \n",
      "=================================================================\n",
      "input_1 (InputLayer)         (None, 224, 224, 3)       0         \n",
      "_________________________________________________________________\n",
      "block1_conv1 (Conv2D)        (None, 224, 224, 64)      1792      \n",
      "_________________________________________________________________\n",
      "block1_conv2 (Conv2D)        (None, 224, 224, 64)      36928     \n",
      "_________________________________________________________________\n",
      "block1_pool (MaxPooling2D)   (None, 112, 112, 64)      0         \n",
      "_________________________________________________________________\n",
      "block2_conv1 (Conv2D)        (None, 112, 112, 128)     73856     \n",
      "_________________________________________________________________\n",
      "block2_conv2 (Conv2D)        (None, 112, 112, 128)     147584    \n",
      "_________________________________________________________________\n",
      "block2_pool (MaxPooling2D)   (None, 56, 56, 128)       0         \n",
      "_________________________________________________________________\n",
      "block3_conv1 (Conv2D)        (None, 56, 56, 256)       295168    \n",
      "_________________________________________________________________\n",
      "block3_conv2 (Conv2D)        (None, 56, 56, 256)       590080    \n",
      "_________________________________________________________________\n",
      "block3_conv3 (Conv2D)        (None, 56, 56, 256)       590080    \n",
      "_________________________________________________________________\n",
      "block3_conv4 (Conv2D)        (None, 56, 56, 256)       590080    \n",
      "_________________________________________________________________\n",
      "block3_pool (MaxPooling2D)   (None, 28, 28, 256)       0         \n",
      "_________________________________________________________________\n",
      "block4_conv1 (Conv2D)        (None, 28, 28, 512)       1180160   \n",
      "_________________________________________________________________\n",
      "block4_conv2 (Conv2D)        (None, 28, 28, 512)       2359808   \n",
      "_________________________________________________________________\n",
      "block4_conv3 (Conv2D)        (None, 28, 28, 512)       2359808   \n",
      "_________________________________________________________________\n",
      "block4_conv4 (Conv2D)        (None, 28, 28, 512)       2359808   \n",
      "_________________________________________________________________\n",
      "block4_pool (MaxPooling2D)   (None, 14, 14, 512)       0         \n",
      "_________________________________________________________________\n",
      "block5_conv1 (Conv2D)        (None, 14, 14, 512)       2359808   \n",
      "_________________________________________________________________\n",
      "block5_conv2 (Conv2D)        (None, 14, 14, 512)       2359808   \n",
      "_________________________________________________________________\n",
      "block5_conv3 (Conv2D)        (None, 14, 14, 512)       2359808   \n",
      "_________________________________________________________________\n",
      "block5_conv4 (Conv2D)        (None, 14, 14, 512)       2359808   \n",
      "_________________________________________________________________\n",
      "block5_pool (MaxPooling2D)   (None, 7, 7, 512)         0         \n",
      "_________________________________________________________________\n",
      "global_avg (GlobalAveragePoo (None, 512)               0         \n",
      "_________________________________________________________________\n",
      "features (Dense)             (None, 1024)              525312    \n",
      "_________________________________________________________________\n",
      "dropout (Dropout)            (None, 1024)              0         \n",
      "_________________________________________________________________\n",
      "prediction (Dense)           (None, 5)                 5125      \n",
      "=================================================================\n",
      "Total params: 20,554,821\n",
      "Trainable params: 530,437\n",
      "Non-trainable params: 20,024,384\n",
      "_________________________________________________________________\n"
     ]
    }
   ],
   "source": [
    "model.summary()"
   ]
  },
  {
   "cell_type": "code",
   "execution_count": null,
   "metadata": {},
   "outputs": [
    {
     "name": "stdout",
     "output_type": "stream",
     "text": [
      "Epoch 1/10\n",
      "42885/42885 [==============================] - 418s 10ms/step - loss: 4.1273\n",
      "Epoch 2/10\n",
      "13832/42885 [========>.....................] - ETA: 4:40 - loss: 3.4614"
     ]
    }
   ],
   "source": [
    "model.fit(X, y, batch_size=8, epochs=5)"
   ]
  }
 ],
 "metadata": {
  "kernelspec": {
   "display_name": "Python 3",
   "language": "python",
   "name": "python3"
  },
  "language_info": {
   "codemirror_mode": {
    "name": "ipython",
    "version": 3
   },
   "file_extension": ".py",
   "mimetype": "text/x-python",
   "name": "python",
   "nbconvert_exporter": "python",
   "pygments_lexer": "ipython3",
   "version": "3.6.6"
  }
 },
 "nbformat": 4,
 "nbformat_minor": 2
}
