{
 "cells": [
  {
   "cell_type": "code",
   "execution_count": 1,
   "metadata": {},
   "outputs": [],
   "source": [
    "from PIL import Image\n",
    "from tqdm import tqdm\n",
    "import hashlib\n",
    "from pathlib import Path\n",
    "from concurrent.futures import ThreadPoolExecutor\n",
    "\n",
    "import numpy as np\n",
    "import pandas as pd\n",
    "import Augmentor\n",
    "\n",
    "from sklearn.model_selection import StratifiedKFold, KFold"
   ]
  },
  {
   "cell_type": "code",
   "execution_count": 2,
   "metadata": {},
   "outputs": [],
   "source": [
    "AUGMENT_FACTOR = 3\n",
    "IMG_SHAPE = (224, 224)"
   ]
  },
  {
   "cell_type": "code",
   "execution_count": 3,
   "metadata": {},
   "outputs": [],
   "source": [
    "path = Path(\"dataset_updated\")"
   ]
  },
  {
   "cell_type": "code",
   "execution_count": 4,
   "metadata": {},
   "outputs": [
    {
     "name": "stderr",
     "output_type": "stream",
     "text": [
      "/usr/lib/python3/dist-packages/PIL/TiffImagePlugin.py:739: UserWarning: Possibly corrupt EXIF data.  Expecting to read 6029312 bytes but only got 0. Skipping tag 0\n",
      "  \" Skipping tag %s\" % (size, len(data), tag))\n",
      "/usr/lib/python3/dist-packages/PIL/TiffImagePlugin.py:739: UserWarning: Possibly corrupt EXIF data.  Expecting to read 1311848 bytes but only got 785. Skipping tag 0\n",
      "  \" Skipping tag %s\" % (size, len(data), tag))\n",
      "/usr/lib/python3/dist-packages/PIL/TiffImagePlugin.py:756: UserWarning: Corrupt EXIF data.  Expecting to read 12 bytes but only got 8. \n",
      "  warnings.warn(str(msg))\n"
     ]
    },
    {
     "data": {
      "text/html": [
       "<div>\n",
       "<style scoped>\n",
       "    .dataframe tbody tr th:only-of-type {\n",
       "        vertical-align: middle;\n",
       "    }\n",
       "\n",
       "    .dataframe tbody tr th {\n",
       "        vertical-align: top;\n",
       "    }\n",
       "\n",
       "    .dataframe thead th {\n",
       "        text-align: right;\n",
       "    }\n",
       "</style>\n",
       "<table border=\"1\" class=\"dataframe\">\n",
       "  <thead>\n",
       "    <tr style=\"text-align: right;\">\n",
       "      <th></th>\n",
       "      <th>path</th>\n",
       "      <th>category</th>\n",
       "    </tr>\n",
       "    <tr>\n",
       "      <th>id</th>\n",
       "      <th></th>\n",
       "      <th></th>\n",
       "    </tr>\n",
       "  </thead>\n",
       "  <tbody>\n",
       "    <tr>\n",
       "      <th>96cb78a545ae9bff37048375762a43c4</th>\n",
       "      <td>/home/asm/dev/budokai/dataset_updated/validati...</td>\n",
       "      <td>iconography</td>\n",
       "    </tr>\n",
       "    <tr>\n",
       "      <th>c8c4ef86d86573cacb5991e362a4ac2d</th>\n",
       "      <td>/home/asm/dev/budokai/dataset_updated/validati...</td>\n",
       "      <td>iconography</td>\n",
       "    </tr>\n",
       "    <tr>\n",
       "      <th>1eac68a564617590992bae5e51fd4d8e</th>\n",
       "      <td>/home/asm/dev/budokai/dataset_updated/validati...</td>\n",
       "      <td>iconography</td>\n",
       "    </tr>\n",
       "    <tr>\n",
       "      <th>0ddef4a9979cb84a1855c6e5133bd88c</th>\n",
       "      <td>/home/asm/dev/budokai/dataset_updated/validati...</td>\n",
       "      <td>iconography</td>\n",
       "    </tr>\n",
       "    <tr>\n",
       "      <th>08d8de80b60f2373689afa401ad4c547</th>\n",
       "      <td>/home/asm/dev/budokai/dataset_updated/validati...</td>\n",
       "      <td>iconography</td>\n",
       "    </tr>\n",
       "  </tbody>\n",
       "</table>\n",
       "</div>"
      ],
      "text/plain": [
       "                                                                               path  \\\n",
       "id                                                                                    \n",
       "96cb78a545ae9bff37048375762a43c4  /home/asm/dev/budokai/dataset_updated/validati...   \n",
       "c8c4ef86d86573cacb5991e362a4ac2d  /home/asm/dev/budokai/dataset_updated/validati...   \n",
       "1eac68a564617590992bae5e51fd4d8e  /home/asm/dev/budokai/dataset_updated/validati...   \n",
       "0ddef4a9979cb84a1855c6e5133bd88c  /home/asm/dev/budokai/dataset_updated/validati...   \n",
       "08d8de80b60f2373689afa401ad4c547  /home/asm/dev/budokai/dataset_updated/validati...   \n",
       "\n",
       "                                     category  \n",
       "id                                             \n",
       "96cb78a545ae9bff37048375762a43c4  iconography  \n",
       "c8c4ef86d86573cacb5991e362a4ac2d  iconography  \n",
       "1eac68a564617590992bae5e51fd4d8e  iconography  \n",
       "0ddef4a9979cb84a1855c6e5133bd88c  iconography  \n",
       "08d8de80b60f2373689afa401ad4c547  iconography  "
      ]
     },
     "execution_count": 4,
     "metadata": {},
     "output_type": "execute_result"
    }
   ],
   "source": [
    "img_list = []\n",
    "for img in path.glob('*/*/*'):\n",
    "    try:\n",
    "        Image.open(img)\n",
    "    except:\n",
    "        continue\n",
    "    cat = img.parts[-2]\n",
    "    pathstr = str(img.absolute())\n",
    "    img_id = hashlib.md5(pathstr.encode('utf-8')).hexdigest()\n",
    "    img_list.append((img_id, pathstr, cat))\n",
    "img_df = pd.DataFrame(img_list, columns=['id', 'path', 'category'])\n",
    "img_df.index = img_df.id\n",
    "img_df.drop('id', axis=1, inplace=True)\n",
    "img_df.category = img_df.category.astype('category')\n",
    "img_df.head()"
   ]
  },
  {
   "cell_type": "code",
   "execution_count": 5,
   "metadata": {},
   "outputs": [],
   "source": [
    "def apply_pipeline(df, sample_size):\n",
    "    \n",
    "    p = Augmentor.DataFramePipeline(df, 'path', 'category')\n",
    "    p.resize(1, *IMG_SHAPE)\n",
    "    \n",
    "    samples = p.augmentor_images\n",
    "    if sample_size > len(samples):\n",
    "        extra = np.random.choice(p.augmentor_images, sample_size - len(samples))\n",
    "        samples = np.concatenate((samples, extra), axis=0)\n",
    "        \n",
    "    with tqdm(total=len(samples), desc=\"Generating samples\", unit=\"samples\") as pbar:\n",
    "        \n",
    "        def process(img):\n",
    "            aug_img = np.array(p._execute(img, save_to_disk=False))\n",
    "            if aug_img.ndim < 3:\n",
    "                aug_img = np.stack([aug_img]*3, -1)\n",
    "            if aug_img.shape[-1] > 3:\n",
    "                aug_img = aug_img[..., :3]\n",
    "            assert aug_img.shape == (*IMG_SHAPE, 3), img.image_path\n",
    "            pbar.update(1)\n",
    "            return aug_img, img.categorical_label\n",
    "        \n",
    "        X, y = zip(*map(process, samples))\n",
    "    \n",
    "    return np.array(X), np.array(y)"
   ]
  },
  {
   "cell_type": "code",
   "execution_count": 6,
   "metadata": {},
   "outputs": [
    {
     "name": "stderr",
     "output_type": "stream",
     "text": [
      "Generating samples:   0%|          | 25/20580 [00:00<01:23, 246.60samples/s]"
     ]
    },
    {
     "name": "stdout",
     "output_type": "stream",
     "text": [
      "Initialised with 6860 image(s) found.\n",
      "Output directory set to output."
     ]
    },
    {
     "name": "stderr",
     "output_type": "stream",
     "text": [
      "Generating samples: 100%|██████████| 20580/20580 [00:50<00:00, 404.84samples/s]\n",
      "Generating samples:   1%|          | 44/5151 [00:00<00:11, 427.76samples/s]"
     ]
    },
    {
     "name": "stdout",
     "output_type": "stream",
     "text": [
      "Initialised with 1717 image(s) found.\n",
      "Output directory set to output."
     ]
    },
    {
     "name": "stderr",
     "output_type": "stream",
     "text": [
      "Generating samples: 100%|██████████| 5151/5151 [00:12<00:00, 416.29samples/s]\n"
     ]
    },
    {
     "name": "stdout",
     "output_type": "stream",
     "text": [
      "\n"
     ]
    },
    {
     "name": "stderr",
     "output_type": "stream",
     "text": [
      "Generating samples:   0%|          | 43/20583 [00:00<00:48, 427.42samples/s]"
     ]
    },
    {
     "name": "stdout",
     "output_type": "stream",
     "text": [
      "Initialised with 6861 image(s) found.\n",
      "Output directory set to output."
     ]
    },
    {
     "name": "stderr",
     "output_type": "stream",
     "text": [
      "Generating samples: 100%|██████████| 20583/20583 [00:50<00:00, 410.19samples/s]\n",
      "Generating samples:   1%|          | 27/5148 [00:00<00:19, 266.20samples/s]"
     ]
    },
    {
     "name": "stdout",
     "output_type": "stream",
     "text": [
      "Initialised with 1716 image(s) found.\n",
      "Output directory set to output."
     ]
    },
    {
     "name": "stderr",
     "output_type": "stream",
     "text": [
      "Generating samples: 100%|██████████| 5148/5148 [00:12<00:00, 404.04samples/s]\n"
     ]
    },
    {
     "name": "stdout",
     "output_type": "stream",
     "text": [
      "\n"
     ]
    },
    {
     "name": "stderr",
     "output_type": "stream",
     "text": [
      "Generating samples:   0%|          | 44/20583 [00:00<00:48, 426.93samples/s]"
     ]
    },
    {
     "name": "stdout",
     "output_type": "stream",
     "text": [
      "Initialised with 6861 image(s) found.\n",
      "Output directory set to output."
     ]
    },
    {
     "name": "stderr",
     "output_type": "stream",
     "text": [
      "Generating samples: 100%|██████████| 20583/20583 [00:49<00:00, 411.91samples/s]\n",
      "Generating samples:   1%|          | 28/5148 [00:00<00:18, 276.94samples/s]"
     ]
    },
    {
     "name": "stdout",
     "output_type": "stream",
     "text": [
      "Initialised with 1716 image(s) found.\n",
      "Output directory set to output."
     ]
    },
    {
     "name": "stderr",
     "output_type": "stream",
     "text": [
      "Generating samples: 100%|██████████| 5148/5148 [00:13<00:00, 395.44samples/s]\n"
     ]
    },
    {
     "name": "stdout",
     "output_type": "stream",
     "text": [
      "\n"
     ]
    },
    {
     "name": "stderr",
     "output_type": "stream",
     "text": [
      "Generating samples:   0%|          | 44/20586 [00:00<00:48, 427.31samples/s]"
     ]
    },
    {
     "name": "stdout",
     "output_type": "stream",
     "text": [
      "Initialised with 6862 image(s) found.\n",
      "Output directory set to output."
     ]
    },
    {
     "name": "stderr",
     "output_type": "stream",
     "text": [
      "Generating samples: 100%|██████████| 20586/20586 [00:50<00:00, 409.64samples/s]\n",
      "Generating samples:   1%|          | 31/5145 [00:00<00:16, 300.97samples/s]"
     ]
    },
    {
     "name": "stdout",
     "output_type": "stream",
     "text": [
      "Initialised with 1715 image(s) found.\n",
      "Output directory set to output."
     ]
    },
    {
     "name": "stderr",
     "output_type": "stream",
     "text": [
      "Generating samples: 100%|██████████| 5145/5145 [00:12<00:00, 409.39samples/s]\n"
     ]
    },
    {
     "name": "stdout",
     "output_type": "stream",
     "text": [
      "\n"
     ]
    },
    {
     "name": "stderr",
     "output_type": "stream",
     "text": [
      "Generating samples:   0%|          | 44/20592 [00:00<00:48, 424.93samples/s]"
     ]
    },
    {
     "name": "stdout",
     "output_type": "stream",
     "text": [
      "Initialised with 6864 image(s) found.\n",
      "Output directory set to output."
     ]
    },
    {
     "name": "stderr",
     "output_type": "stream",
     "text": [
      "Generating samples: 100%|██████████| 20592/20592 [00:49<00:00, 414.82samples/s]\n",
      "Generating samples:   1%|          | 34/5139 [00:00<00:15, 323.40samples/s]"
     ]
    },
    {
     "name": "stdout",
     "output_type": "stream",
     "text": [
      "Initialised with 1713 image(s) found.\n",
      "Output directory set to output."
     ]
    },
    {
     "name": "stderr",
     "output_type": "stream",
     "text": [
      "Generating samples: 100%|██████████| 5139/5139 [00:12<00:00, 415.91samples/s]\n"
     ]
    },
    {
     "name": "stdout",
     "output_type": "stream",
     "text": [
      "\n"
     ]
    }
   ],
   "source": [
    "skf = StratifiedKFold(5)\n",
    "for i, (train, test) in enumerate(skf.split(img_df.path, img_df.category)):\n",
    "    X_train, y_train = apply_pipeline(img_df.iloc[train], AUGMENT_FACTOR * len(train))\n",
    "    X_test, y_test = apply_pipeline(img_df.iloc[test], AUGMENT_FACTOR * len(test))\n",
    "    np.savez(f'fold{i}_data.npz', X_train=X_train, y_train=y_train, X_test=X_test, y_test=y_test)\n",
    "    print()"
   ]
  }
 ],
 "metadata": {
  "kernelspec": {
   "display_name": "Python 3",
   "language": "python",
   "name": "python3"
  },
  "language_info": {
   "codemirror_mode": {
    "name": "ipython",
    "version": 3
   },
   "file_extension": ".py",
   "mimetype": "text/x-python",
   "name": "python",
   "nbconvert_exporter": "python",
   "pygments_lexer": "ipython3",
   "version": "3.6.6"
  }
 },
 "nbformat": 4,
 "nbformat_minor": 2
}
